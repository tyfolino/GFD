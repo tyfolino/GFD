{
 "cells": [
  {
   "cell_type": "code",
   "execution_count": 28,
   "metadata": {
    "collapsed": true
   },
   "outputs": [],
   "source": [
    "from sympy.solvers import solve\n",
    "from sympy import Symbol\n",
    "from sympy.matrices import *\n",
    "from sympy import E\n",
    "from sympy import factor\n",
    "from sympy import simplify\n",
    "from sympy import exp\n",
    "from sympy.plotting import plot\n",
    "from sympy import refine"
   ]
  },
  {
   "cell_type": "code",
   "execution_count": 29,
   "metadata": {
    "collapsed": true
   },
   "outputs": [],
   "source": [
    "A = Symbol('A')\n",
    "B = Symbol('B')\n",
    "L = Symbol('L')\n",
    "k = Symbol('k')\n",
    "c = Symbol('c')"
   ]
  },
  {
   "cell_type": "code",
   "execution_count": 30,
   "metadata": {
    "collapsed": true
   },
   "outputs": [],
   "source": [
    "M = Matrix([[1,-1,-1*E**(2*k*L),0],\n",
    "           [k * (A * L - c) + B,-1*k*(A*L-c)-A,E**(2*k*L) * (k*(A*L-c)-A),0],\n",
    "           [0,E**(2*k*L) * (k*(A*L+c)-A),-1*k*(A*L+c) - A, k*(A*L+c)+B],\n",
    "           [0,-1*E**(2*k*L),-1,1]])"
   ]
  },
  {
   "cell_type": "code",
   "execution_count": 31,
   "metadata": {
    "collapsed": false
   },
   "outputs": [
    {
     "data": {
      "text/plain": [
       "Matrix([\n",
       "[              1,                            -1,                   -exp(2*L*k),               0],\n",
       "[B + k*(A*L - c),              -A - k*(A*L - c), (-A + k*(A*L - c))*exp(2*L*k),               0],\n",
       "[              0, (-A + k*(A*L + c))*exp(2*L*k),              -A - k*(A*L + c), B + k*(A*L + c)],\n",
       "[              0,                   -exp(2*L*k),                            -1,               1]])"
      ]
     },
     "execution_count": 31,
     "metadata": {},
     "output_type": "execute_result"
    }
   ],
   "source": [
    "M"
   ]
  },
  {
   "cell_type": "code",
   "execution_count": 32,
   "metadata": {
    "collapsed": false
   },
   "outputs": [
    {
     "data": {
      "text/plain": [
       "-4*A**2*L**2*k**2*exp(4*L*k) + 4*A**2*L*k*exp(4*L*k) - A**2*exp(4*L*k) + A**2 - 4*A*B*L*k*exp(4*L*k) + 2*A*B*exp(4*L*k) - 2*A*B - B**2*exp(4*L*k) + B**2 + 4*c**2*k**2*exp(4*L*k)"
      ]
     },
     "execution_count": 32,
     "metadata": {},
     "output_type": "execute_result"
    }
   ],
   "source": [
    "M.det()"
   ]
  },
  {
   "cell_type": "code",
   "execution_count": 33,
   "metadata": {
    "collapsed": false
   },
   "outputs": [
    {
     "data": {
      "text/plain": [
       "[-sqrt(4*A**2*L**2*k**2 - 4*A**2*L*k + A**2 - A**2*exp(-4*L*k) + 4*A*B*L*k - 2*A*B + 2*A*B*exp(-4*L*k) + B**2 - B**2*exp(-4*L*k))/(2*k),\n",
       " sqrt(4*A**2*L**2*k**2 - 4*A**2*L*k + A**2 - A**2*exp(-4*L*k) + 4*A*B*L*k - 2*A*B + 2*A*B*exp(-4*L*k) + B**2 - B**2*exp(-4*L*k))/(2*k)]"
      ]
     },
     "execution_count": 33,
     "metadata": {},
     "output_type": "execute_result"
    }
   ],
   "source": [
    "solve(M.det(),c)"
   ]
  },
  {
   "cell_type": "code",
   "execution_count": 34,
   "metadata": {
    "collapsed": false
   },
   "outputs": [],
   "source": [
    "func = 4*A**2*L**2*k**2 - 4*A**2*L*k + A**2 - A**2*exp(-4*L*k) + 4*A*B*L*k - 2*A*B + 2*A*B*exp(-4*L*k) + B**2 - B**2*exp(-4*L*k)"
   ]
  },
  {
   "cell_type": "code",
   "execution_count": 38,
   "metadata": {
    "collapsed": false
   },
   "outputs": [
    {
     "data": {
      "text/plain": [
       "[A*(-2*L*k*exp(2*L*k) + exp(2*L*k) - 1)/(exp(2*L*k) - 1),\n",
       " A*(-2*L*k*exp(2*L*k) + exp(2*L*k) + 1)/(exp(2*L*k) + 1)]"
      ]
     },
     "execution_count": 38,
     "metadata": {},
     "output_type": "execute_result"
    }
   ],
   "source": [
    "solve(func,B)"
   ]
  },
  {
   "cell_type": "code",
   "execution_count": null,
   "metadata": {
    "collapsed": true
   },
   "outputs": [],
   "source": []
  }
 ],
 "metadata": {
  "kernelspec": {
   "display_name": "Python [default]",
   "language": "python",
   "name": "python3"
  },
  "language_info": {
   "codemirror_mode": {
    "name": "ipython",
    "version": 3
   },
   "file_extension": ".py",
   "mimetype": "text/x-python",
   "name": "python",
   "nbconvert_exporter": "python",
   "pygments_lexer": "ipython3",
   "version": "3.6.4"
  }
 },
 "nbformat": 4,
 "nbformat_minor": 2
}
