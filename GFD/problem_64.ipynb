{
 "cells": [
  {
   "cell_type": "code",
   "execution_count": 26,
   "metadata": {
    "collapsed": false
   },
   "outputs": [],
   "source": [
    "from sympy.solvers import solve\n",
    "from sympy import Symbol\n",
    "from sympy.matrices import *\n",
    "from sympy import E\n",
    "from sympy import factor"
   ]
  },
  {
   "cell_type": "code",
   "execution_count": 6,
   "metadata": {
    "collapsed": true
   },
   "outputs": [],
   "source": [
    "k = Symbol('k')\n",
    "c = Symbol('c')"
   ]
  },
  {
   "cell_type": "code",
   "execution_count": 15,
   "metadata": {
    "collapsed": false
   },
   "outputs": [],
   "source": [
    "M = Matrix([[1,-1,-E**(2*k),0,0,0],\n",
    "            [c*k,-1*(c*k + 1),E**(2*k) * (c * k - 1),0,0,0],\n",
    "            [0,k*(c - 1) +1,-1*k*(c-1) + 1, -1 * k * (c-1)+1, k * (c-1) + 1,0],\n",
    "            [0,1,1,-1,-1,0],\n",
    "            [0,0,0,E**(2*k) * (c*k - 1), -1 * (c*k+1), c*k],\n",
    "            [0,0,0,-1 * E**(2*k), -1,1]])"
   ]
  },
  {
   "cell_type": "code",
   "execution_count": 29,
   "metadata": {
    "collapsed": false
   },
   "outputs": [
    {
     "data": {
      "text/plain": [
       "-8*c**3*k**3*exp(4*k) + 8*c**2*k**3*exp(4*k) - 8*c*k**2*exp(4*k) + 6*c*k*exp(4*k) - 8*c*k*exp(2*k) + 2*c*k + 2*k*exp(4*k) - 2*k - 2*exp(4*k) + 4*exp(2*k) - 2"
      ]
     },
     "execution_count": 29,
     "metadata": {},
     "output_type": "execute_result"
    }
   ],
   "source": [
    "M.det()"
   ]
  },
  {
   "cell_type": "code",
   "execution_count": 32,
   "metadata": {
    "collapsed": false
   },
   "outputs": [],
   "source": [
    "c_sols = solve(M.det(),c)"
   ]
  },
  {
   "cell_type": "code",
   "execution_count": 37,
   "metadata": {
    "collapsed": false
   },
   "outputs": [
    {
     "data": {
      "text/plain": [
       "[(exp(2*k) - 1)*exp(-2*k)/(2*k),\n",
       " (2*k*exp(2*k) - sqrt(4*k**2*exp(4*k) - 12*k*exp(4*k) - 4*k*exp(2*k) + 9*exp(4*k) - 10*exp(2*k) + 1) - exp(2*k) + 1)*exp(-2*k)/(4*k),\n",
       " (2*k*exp(2*k) + sqrt(4*k**2*exp(4*k) - 12*k*exp(4*k) - 4*k*exp(2*k) + 9*exp(4*k) - 10*exp(2*k) + 1) - exp(2*k) + 1)*exp(-2*k)/(4*k)]"
      ]
     },
     "execution_count": 37,
     "metadata": {},
     "output_type": "execute_result"
    }
   ],
   "source": [
    "c_sols"
   ]
  },
  {
   "cell_type": "code",
   "execution_count": null,
   "metadata": {
    "collapsed": true
   },
   "outputs": [],
   "source": []
  }
 ],
 "metadata": {
  "kernelspec": {
   "display_name": "Python [default]",
   "language": "python",
   "name": "python3"
  },
  "language_info": {
   "codemirror_mode": {
    "name": "ipython",
    "version": 3
   },
   "file_extension": ".py",
   "mimetype": "text/x-python",
   "name": "python",
   "nbconvert_exporter": "python",
   "pygments_lexer": "ipython3",
   "version": "3.6.4"
  }
 },
 "nbformat": 4,
 "nbformat_minor": 2
}
